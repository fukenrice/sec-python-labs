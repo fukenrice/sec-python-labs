{
 "cells": [
  {
   "cell_type": "markdown",
   "id": "df717863",
   "metadata": {},
   "source": [
    "## Task 1"
   ]
  },
  {
   "cell_type": "code",
   "execution_count": 25,
   "id": "fb2dd1a7",
   "metadata": {},
   "outputs": [
    {
     "name": "stdout",
     "output_type": "stream",
     "text": [
      "\n",
      "    The Moscow Times: 2002-10-02\n",
      "    The Guardian: 2013-10-11\n",
      "    Daily News: 1977-08-18\n",
      "    \n"
     ]
    }
   ],
   "source": [
    "from datetime import datetime\n",
    "\n",
    "# The Moscow Times - Wednesday, October 2, 2002\n",
    "# The Guardian - Friday, 11.10.13\n",
    "# Daily News - Thursday, 18 August 1977\n",
    "\n",
    "moscow_times = datetime.strptime(\"Wednesday, October 2, 2002\", \"%A, %B %d, %Y\")\n",
    "guardian = datetime.strptime(\"Friday, 11.10.13\", \"%A, %d.%m.%y\")\n",
    "daily_news = datetime.strptime(\"Thursday, 18 August 1977\", \"%A, %d %B %Y\")\n",
    "print(\n",
    "    f\"\"\"\n",
    "    The Moscow Times: {moscow_times.strftime('%Y-%m-%d')}\n",
    "    The Guardian: {guardian.strftime('%Y-%m-%d')}\n",
    "    Daily News: {daily_news.strftime('%Y-%m-%d')}\n",
    "    \"\"\"\n",
    ")"
   ]
  },
  {
   "cell_type": "markdown",
   "id": "e70278bb",
   "metadata": {},
   "source": [
    "## Task 2"
   ]
  },
  {
   "cell_type": "code",
   "execution_count": 23,
   "id": "868cb26c",
   "metadata": {},
   "outputs": [
    {
     "name": "stdout",
     "output_type": "stream",
     "text": [
      "['2022-01-01', '2022-01-02', '2022-01-03']\n"
     ]
    }
   ],
   "source": [
    "from datetime import datetime, timedelta\n",
    "from typing import List\n",
    "\n",
    "def date_range(start: str, end: str) -> List[str]:\n",
    "    date_format = \"%Y-%m-%d\" \n",
    "    res = []\n",
    "    try:\n",
    "        start_date = datetime.strptime(start, date_format)\n",
    "        end_date = datetime.strptime(end, date_format)\n",
    "    except ValueError:\n",
    "        return []\n",
    "    delta = timedelta(days=1)\n",
    "    while start_date <= end_date:\n",
    "        res.append(start_date.strftime(date_format))\n",
    "        start_date += delta\n",
    "    return res\n",
    "        \n",
    "print(date_range(\"2022-01-01\", \"2022-01-03\"))"
   ]
  }
 ],
 "metadata": {
  "kernelspec": {
   "display_name": "Python 3 (ipykernel)",
   "language": "python",
   "name": "python3"
  },
  "language_info": {
   "codemirror_mode": {
    "name": "ipython",
    "version": 3
   },
   "file_extension": ".py",
   "mimetype": "text/x-python",
   "name": "python",
   "nbconvert_exporter": "python",
   "pygments_lexer": "ipython3",
   "version": "3.9.13"
  }
 },
 "nbformat": 4,
 "nbformat_minor": 5
}
