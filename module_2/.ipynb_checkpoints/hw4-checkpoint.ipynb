{
 "cells": [
  {
   "cell_type": "markdown",
   "id": "cfe3e42c",
   "metadata": {},
   "source": [
    "## Task 1"
   ]
  },
  {
   "cell_type": "code",
   "execution_count": 2,
   "id": "77679c0d",
   "metadata": {},
   "outputs": [
    {
     "name": "stdout",
     "output_type": "stream",
     "text": [
      "['user_id', '1840e0b9d4', '4e4f90fcfb', 'afea8d72fc', '373a6055fe', '9b2ab046f3', '9f39d307c3', '44edeffc91', '704474fa2d', '1de31be403']\n"
     ]
    }
   ],
   "source": [
    "import json\n",
    "categories = dict()\n",
    "with open(\"hw4_files\\\\purchase_log.txt\", \"r\", encoding=\"utf8\") as file:\n",
    "    for line in file:\n",
    "        obj = json.loads(line)\n",
    "        categories[obj[\"user_id\"]] = obj[\"category\"]\n",
    "        \n",
    "print(list(categories.keys())[:10])"
   ]
  },
  {
   "cell_type": "markdown",
   "id": "2f05eddf",
   "metadata": {},
   "source": [
    "## Task 2"
   ]
  },
  {
   "cell_type": "code",
   "execution_count": 3,
   "id": "3dee7781",
   "metadata": {
    "scrolled": true
   },
   "outputs": [],
   "source": [
    "# Содерижмое поместили в оперативную память в мапу res в первом задании.\n",
    "# Чтобы помесятить все в оперативную память можно было бы использовать file.read() или file.readlines()\n",
    "\n",
    "import csv\n",
    "with open(\"hw4_files\\\\funnel.csv\", \"w\", encoding=\"utf8\", newline=\"\") as result:\n",
    "    with open(\"hw4_files\\\\visit_log.csv\", \"r\", encoding=\"utf8\", newline = \"\") as source:\n",
    "        source_reader = csv.DictReader(source)\n",
    "        fieldnames = [\"user_id\", \"source\", \"category\"]\n",
    "        writer = csv.DictWriter(result, fieldnames=fieldnames)\n",
    "        writer.writeheader()\n",
    "        for row in source_reader:\n",
    "            res_row = row.copy()\n",
    "            if (row[\"user_id\"] in categories):\n",
    "                res_row[\"category\"] = categories[row[\"user_id\"]]\n",
    "                writer.writerow(res_row)"
   ]
  },
  {
   "cell_type": "code",
   "execution_count": null,
   "id": "c075a312",
   "metadata": {},
   "outputs": [],
   "source": []
  }
 ],
 "metadata": {
  "kernelspec": {
   "display_name": "Python 3 (ipykernel)",
   "language": "python",
   "name": "python3"
  },
  "language_info": {
   "codemirror_mode": {
    "name": "ipython",
    "version": 3
   },
   "file_extension": ".py",
   "mimetype": "text/x-python",
   "name": "python",
   "nbconvert_exporter": "python",
   "pygments_lexer": "ipython3",
   "version": "3.9.13"
  }
 },
 "nbformat": 4,
 "nbformat_minor": 5
}
