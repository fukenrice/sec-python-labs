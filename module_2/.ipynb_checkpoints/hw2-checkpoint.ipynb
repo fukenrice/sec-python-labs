{
 "cells": [
  {
   "cell_type": "markdown",
   "id": "e7789ac4",
   "metadata": {},
   "source": [
    "## Task 1"
   ]
  },
  {
   "cell_type": "code",
   "execution_count": 7,
   "id": "4e0c4120",
   "metadata": {},
   "outputs": [
    {
     "name": "stdout",
     "output_type": "stream",
     "text": [
      "Num of users:3\n",
      "Geo tags for user 0:213, 213, 213, 15, 213\n",
      "Geo tags for user 1:54, 54, 119, 119, 119\n",
      "Geo tags for user 2:213, 98, 98, 35\n",
      "{98, 35, 15, 213, 54, 119}\n"
     ]
    }
   ],
   "source": [
    "num_of_users = int(input(\"Num of users: \"))\n",
    "result = set()\n",
    "for i in range(0, num_of_users):\n",
    "    geo = list(map(int, input(f\"Geo tags for user {i + 1}: \").split(', ')))\n",
    "    result.update(geo)\n",
    "print(result)"
   ]
  },
  {
   "cell_type": "markdown",
   "id": "802879b3",
   "metadata": {},
   "source": [
    "## Task 2"
   ]
  },
  {
   "cell_type": "code",
   "execution_count": 16,
   "id": "4ec7123f",
   "metadata": {},
   "outputs": [
    {
     "name": "stdout",
     "output_type": "stream",
     "text": [
      "Num of requests: 7\n",
      "Request 1: смотреть сериалы онлайн\n",
      "Request 2: новости спорта\n",
      "Request 3: афиша кино\n",
      "Request 4: курс доллара\n",
      "Request 5: сериалы этим летом\n",
      "Request 6: курс по питону\n",
      "Request 7: сериалы про спорт\n",
      "Поисковых запросов, содержащих 3 слов(а): 57.14%\n",
      "Поисковых запросов, содержащих 2 слов(а): 42.86%\n"
     ]
    }
   ],
   "source": [
    "queries = [\n",
    "'смотреть сериалы онлайн',\n",
    "'новости спорта',\n",
    "'афиша кино',\n",
    "'курс доллара',\n",
    "'сериалы этим летом',\n",
    "'курс по питону',\n",
    "'сериалы про спорт',\n",
    "]\n",
    "\n",
    "num_of_requests = int(input(\"Num of requests: \"))\n",
    "res = dict()\n",
    "for i in range(0, num_of_requests):\n",
    "    req = input(f\"Request {i + 1}: \")\n",
    "    word_cnt = len(req.split())\n",
    "    if (word_cnt in res):\n",
    "        res[word_cnt] += 1\n",
    "    else:\n",
    "        res[word_cnt] = 1\n",
    "for key, value in res.items():\n",
    "    print(f\"Поисковых запросов, содержащих {key} слов(а): {format(value / num_of_requests * 100, '.2f')}%\")\n"
   ]
  }
 ],
 "metadata": {
  "kernelspec": {
   "display_name": "Python 3 (ipykernel)",
   "language": "python",
   "name": "python3"
  },
  "language_info": {
   "codemirror_mode": {
    "name": "ipython",
    "version": 3
   },
   "file_extension": ".py",
   "mimetype": "text/x-python",
   "name": "python",
   "nbconvert_exporter": "python",
   "pygments_lexer": "ipython3",
   "version": "3.9.13"
  }
 },
 "nbformat": 4,
 "nbformat_minor": 5
}
