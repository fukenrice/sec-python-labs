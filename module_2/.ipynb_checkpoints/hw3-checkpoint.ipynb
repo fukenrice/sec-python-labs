{
 "cells": [
  {
   "cell_type": "markdown",
   "id": "f59ea24a",
   "metadata": {},
   "source": [
    "## Task 1"
   ]
  },
  {
   "cell_type": "code",
   "execution_count": 5,
   "id": "0eb92230",
   "metadata": {},
   "outputs": [
    {
     "name": "stdout",
     "output_type": "stream",
     "text": [
      "start: 22\n",
      "end: 23\n",
      "45\n"
     ]
    }
   ],
   "source": [
    "def sum_distance(start: int, end: int) -> int:\n",
    "    if (start > end):\n",
    "        start, end = end, start\n",
    "    return sum(range(start, end + 1))\n",
    "\n",
    "start = int(input(\"start: \"))\n",
    "end = int(input(\"end: \"))\n",
    "print(sum_distance(start, end))"
   ]
  },
  {
   "cell_type": "markdown",
   "id": "9750df56",
   "metadata": {},
   "source": [
    "## Task 2"
   ]
  },
  {
   "cell_type": "code",
   "execution_count": 8,
   "id": "bcc5fd01",
   "metadata": {},
   "outputs": [
    {
     "name": "stdout",
     "output_type": "stream",
     "text": [
      "string: qwerty\n",
      "offset: 3\n",
      "reps: 2\n",
      "rtyrty\n"
     ]
    }
   ],
   "source": [
    "def trim_and_repeat(string: str, offset: int = 0, repetitions: int = 1) -> str:\n",
    "    return string[offset:] * repetitions\n",
    "string = input(\"string: \")\n",
    "offset = int(input(\"offset: \"))\n",
    "repetitions = int(input(\"reps: \"))\n",
    "print(trim_and_repeat(string, offset, repetitions))"
   ]
  }
 ],
 "metadata": {
  "kernelspec": {
   "display_name": "Python 3 (ipykernel)",
   "language": "python",
   "name": "python3"
  },
  "language_info": {
   "codemirror_mode": {
    "name": "ipython",
    "version": 3
   },
   "file_extension": ".py",
   "mimetype": "text/x-python",
   "name": "python",
   "nbconvert_exporter": "python",
   "pygments_lexer": "ipython3",
   "version": "3.9.13"
  }
 },
 "nbformat": 4,
 "nbformat_minor": 5
}
