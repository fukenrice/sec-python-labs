{
 "cells": [
  {
   "cell_type": "markdown",
   "id": "8112245c",
   "metadata": {},
   "source": [
    "## Task 1"
   ]
  },
  {
   "cell_type": "code",
   "execution_count": 3,
   "id": "b220820b",
   "metadata": {},
   "outputs": [
    {
     "name": "stdout",
     "output_type": "stream",
     "text": [
      "\n",
      "        Post 1:\n",
      "        Title: sunt aut facere repellat provident occaecati excepturi optio reprehenderit\n",
      "        Body: quia et suscipit\n",
      "suscipit recusandae consequuntur expedita et cum\n",
      "reprehenderit molestiae ut ut quas totam\n",
      "nostrum rerum est autem sunt rem eveniet architecto\n",
      "    \n",
      "\n",
      "        Post 2:\n",
      "        Title: qui est esse\n",
      "        Body: est rerum tempore vitae\n",
      "sequi sint nihil reprehenderit dolor beatae ea dolores neque\n",
      "fugiat blanditiis voluptate porro vel nihil molestiae ut reiciendis\n",
      "qui aperiam non debitis possimus qui neque nisi nulla\n",
      "    \n",
      "\n",
      "        Post 3:\n",
      "        Title: ea molestias quasi exercitationem repellat qui ipsa sit aut\n",
      "        Body: et iusto sed quo iure\n",
      "voluptatem occaecati omnis eligendi aut ad\n",
      "voluptatem doloribus vel accusantium quis pariatur\n",
      "molestiae porro eius odio et labore et velit aut\n",
      "    \n",
      "\n",
      "        Post 4:\n",
      "        Title: eum et est occaecati\n",
      "        Body: ullam et saepe reiciendis voluptatem adipisci\n",
      "sit amet autem assumenda provident rerum culpa\n",
      "quis hic commodi nesciunt rem tenetur doloremque ipsam iure\n",
      "quis sunt voluptatem rerum illo velit\n",
      "    \n",
      "\n",
      "        Post 5:\n",
      "        Title: nesciunt quas odio\n",
      "        Body: repudiandae veniam quaerat sunt sed\n",
      "alias aut fugiat sit autem sed est\n",
      "voluptatem omnis possimus esse voluptatibus quis\n",
      "est aut tenetur dolor neque\n",
      "    \n"
     ]
    }
   ],
   "source": [
    "import requests\n",
    "\n",
    "response = requests.get(\"https://jsonplaceholder.typicode.com/posts\")\n",
    "\n",
    "if response.status_code == 200:\n",
    "    posts = response.json()\n",
    "\n",
    "    for post in posts[:5]:\n",
    "        print(f\"\"\"\n",
    "        Post {post['id']}:\n",
    "        Title: {post['title']}\n",
    "        Body: {post['body']}\n",
    "    \"\"\")\n",
    "else:\n",
    "    print(f\"Error: {response.reason }\")\n"
   ]
  },
  {
   "cell_type": "markdown",
   "id": "2ced3fad",
   "metadata": {},
   "source": [
    "## Task 2"
   ]
  },
  {
   "cell_type": "code",
   "execution_count": 8,
   "id": "f0276f39",
   "metadata": {},
   "outputs": [
    {
     "name": "stdout",
     "output_type": "stream",
     "text": [
      "Input city: moscow\n",
      "Error: Unauthorized\n"
     ]
    }
   ],
   "source": [
    "import requests\n",
    "\n",
    "api_key = \"5f4b6ccbdfae0ffab91fd37afb055133\"\n",
    "\n",
    "city = input(\"Input city: \")\n",
    "\n",
    "if (city != \"\"):\n",
    "    url = f\"https://api.openweathermap.org/data/2.5/weather?q={city}&appid={api_key}&units=metric\"\n",
    "    \n",
    "    response = requests.get(url)\n",
    "    if response.status_code == 200:\n",
    "        data = response.json()\n",
    "        print(f\"\"\"\n",
    "        Temperature: {data['main']['temp']}\n",
    "        Description: {data['weather'][0]['description']}\n",
    "        \"\"\")\n",
    "    else:\n",
    "        print(f\"Error: {response.reason }\")"
   ]
  },
  {
   "cell_type": "code",
   "execution_count": null,
   "id": "765b4609",
   "metadata": {},
   "outputs": [],
   "source": []
  }
 ],
 "metadata": {
  "kernelspec": {
   "display_name": "Python 3 (ipykernel)",
   "language": "python",
   "name": "python3"
  },
  "language_info": {
   "codemirror_mode": {
    "name": "ipython",
    "version": 3
   },
   "file_extension": ".py",
   "mimetype": "text/x-python",
   "name": "python",
   "nbconvert_exporter": "python",
   "pygments_lexer": "ipython3",
   "version": "3.9.13"
  }
 },
 "nbformat": 4,
 "nbformat_minor": 5
}
